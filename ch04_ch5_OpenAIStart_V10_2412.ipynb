{
  "nbformat": 4,
  "nbformat_minor": 0,
  "metadata": {
    "colab": {
      "provenance": []
    },
    "kernelspec": {
      "name": "python3",
      "display_name": "Python 3"
    },
    "language_info": {
      "name": "python"
    }
  },
  "cells": [
    {
      "cell_type": "markdown",
      "source": [
        "## CHAPTER 4. 오픈AI API 활용 첫걸음"
      ],
      "metadata": {
        "id": "yg03LmadQ54x"
      }
    },
    {
      "cell_type": "code",
      "source": [
        "from google.colab import drive\n",
        "drive.mount('/content/drive')"
      ],
      "metadata": {
        "id": "hEa9vZt-9Us7"
      },
      "execution_count": null,
      "outputs": []
    },
    {
      "cell_type": "code",
      "source": [
        "!pip install openai\n",
        "!pip install httpx==0.27.2"
      ],
      "metadata": {
        "id": "OrV0FKmL953P",
        "outputId": "d755ab90-fd29-42ce-992d-0d296c850ca2",
        "colab": {
          "base_uri": "https://localhost:8080/"
        }
      },
      "execution_count": 1,
      "outputs": [
        {
          "output_type": "stream",
          "name": "stdout",
          "text": [
            "Requirement already satisfied: openai in /usr/local/lib/python3.12/dist-packages (1.106.1)\n",
            "Requirement already satisfied: anyio<5,>=3.5.0 in /usr/local/lib/python3.12/dist-packages (from openai) (4.10.0)\n",
            "Requirement already satisfied: distro<2,>=1.7.0 in /usr/local/lib/python3.12/dist-packages (from openai) (1.9.0)\n",
            "Requirement already satisfied: httpx<1,>=0.23.0 in /usr/local/lib/python3.12/dist-packages (from openai) (0.28.1)\n",
            "Requirement already satisfied: jiter<1,>=0.4.0 in /usr/local/lib/python3.12/dist-packages (from openai) (0.10.0)\n",
            "Requirement already satisfied: pydantic<3,>=1.9.0 in /usr/local/lib/python3.12/dist-packages (from openai) (2.11.7)\n",
            "Requirement already satisfied: sniffio in /usr/local/lib/python3.12/dist-packages (from openai) (1.3.1)\n",
            "Requirement already satisfied: tqdm>4 in /usr/local/lib/python3.12/dist-packages (from openai) (4.67.1)\n",
            "Requirement already satisfied: typing-extensions<5,>=4.11 in /usr/local/lib/python3.12/dist-packages (from openai) (4.15.0)\n",
            "Requirement already satisfied: idna>=2.8 in /usr/local/lib/python3.12/dist-packages (from anyio<5,>=3.5.0->openai) (3.10)\n",
            "Requirement already satisfied: certifi in /usr/local/lib/python3.12/dist-packages (from httpx<1,>=0.23.0->openai) (2025.8.3)\n",
            "Requirement already satisfied: httpcore==1.* in /usr/local/lib/python3.12/dist-packages (from httpx<1,>=0.23.0->openai) (1.0.9)\n",
            "Requirement already satisfied: h11>=0.16 in /usr/local/lib/python3.12/dist-packages (from httpcore==1.*->httpx<1,>=0.23.0->openai) (0.16.0)\n",
            "Requirement already satisfied: annotated-types>=0.6.0 in /usr/local/lib/python3.12/dist-packages (from pydantic<3,>=1.9.0->openai) (0.7.0)\n",
            "Requirement already satisfied: pydantic-core==2.33.2 in /usr/local/lib/python3.12/dist-packages (from pydantic<3,>=1.9.0->openai) (2.33.2)\n",
            "Requirement already satisfied: typing-inspection>=0.4.0 in /usr/local/lib/python3.12/dist-packages (from pydantic<3,>=1.9.0->openai) (0.4.1)\n",
            "Collecting httpx==0.27.2\n",
            "  Downloading httpx-0.27.2-py3-none-any.whl.metadata (7.1 kB)\n",
            "Requirement already satisfied: anyio in /usr/local/lib/python3.12/dist-packages (from httpx==0.27.2) (4.10.0)\n",
            "Requirement already satisfied: certifi in /usr/local/lib/python3.12/dist-packages (from httpx==0.27.2) (2025.8.3)\n",
            "Requirement already satisfied: httpcore==1.* in /usr/local/lib/python3.12/dist-packages (from httpx==0.27.2) (1.0.9)\n",
            "Requirement already satisfied: idna in /usr/local/lib/python3.12/dist-packages (from httpx==0.27.2) (3.10)\n",
            "Requirement already satisfied: sniffio in /usr/local/lib/python3.12/dist-packages (from httpx==0.27.2) (1.3.1)\n",
            "Requirement already satisfied: h11>=0.16 in /usr/local/lib/python3.12/dist-packages (from httpcore==1.*->httpx==0.27.2) (0.16.0)\n",
            "Requirement already satisfied: typing_extensions>=4.5 in /usr/local/lib/python3.12/dist-packages (from anyio->httpx==0.27.2) (4.15.0)\n",
            "Downloading httpx-0.27.2-py3-none-any.whl (76 kB)\n",
            "\u001b[2K   \u001b[90m━━━━━━━━━━━━━━━━━━━━━━━━━━━━━━━━━━━━━━━━\u001b[0m \u001b[32m76.4/76.4 kB\u001b[0m \u001b[31m1.6 MB/s\u001b[0m eta \u001b[36m0:00:00\u001b[0m\n",
            "\u001b[?25hInstalling collected packages: httpx\n",
            "  Attempting uninstall: httpx\n",
            "    Found existing installation: httpx 0.28.1\n",
            "    Uninstalling httpx-0.28.1:\n",
            "      Successfully uninstalled httpx-0.28.1\n",
            "\u001b[31mERROR: pip's dependency resolver does not currently take into account all the packages that are installed. This behaviour is the source of the following dependency conflicts.\n",
            "firebase-admin 6.9.0 requires httpx[http2]==0.28.1, but you have httpx 0.27.2 which is incompatible.\n",
            "google-genai 1.33.0 requires httpx<1.0.0,>=0.28.1, but you have httpx 0.27.2 which is incompatible.\u001b[0m\u001b[31m\n",
            "\u001b[0mSuccessfully installed httpx-0.27.2\n"
          ]
        }
      ]
    },
    {
      "cell_type": "code",
      "source": [
        "import os\n",
        "from openai import OpenAI\n",
        "\n",
        "# OpenAI API 키 설정 및 초기화\n",
        "def init_api():\n",
        "    with open(\"chatgpt.env\") as env:\n",
        "       for line in env:\n",
        "           key, value = line.strip().split(\"=\")\n",
        "           os.environ[key] = value\n",
        "\n",
        "init_api()\n",
        "client = OpenAI(api_key  = os.environ.get(\"API_KEY\"))\n",
        "\n",
        "print(client)"
      ],
      "metadata": {
        "id": "B83XCbi19-C8",
        "outputId": "8d30bdcc-418a-45ab-b083-daf85ac00698",
        "colab": {
          "base_uri": "https://localhost:8080/",
          "height": 349
        }
      },
      "execution_count": 2,
      "outputs": [
        {
          "output_type": "error",
          "ename": "FileNotFoundError",
          "evalue": "[Errno 2] No such file or directory: 'chatgpt.env'",
          "traceback": [
            "\u001b[0;31m---------------------------------------------------------------------------\u001b[0m",
            "\u001b[0;31mFileNotFoundError\u001b[0m                         Traceback (most recent call last)",
            "\u001b[0;32m/tmp/ipython-input-240832460.py\u001b[0m in \u001b[0;36m<cell line: 0>\u001b[0;34m()\u001b[0m\n\u001b[1;32m      9\u001b[0m            \u001b[0mos\u001b[0m\u001b[0;34m.\u001b[0m\u001b[0menviron\u001b[0m\u001b[0;34m[\u001b[0m\u001b[0mkey\u001b[0m\u001b[0;34m]\u001b[0m \u001b[0;34m=\u001b[0m \u001b[0mvalue\u001b[0m\u001b[0;34m\u001b[0m\u001b[0;34m\u001b[0m\u001b[0m\n\u001b[1;32m     10\u001b[0m \u001b[0;34m\u001b[0m\u001b[0m\n\u001b[0;32m---> 11\u001b[0;31m \u001b[0minit_api\u001b[0m\u001b[0;34m(\u001b[0m\u001b[0;34m)\u001b[0m\u001b[0;34m\u001b[0m\u001b[0;34m\u001b[0m\u001b[0m\n\u001b[0m\u001b[1;32m     12\u001b[0m \u001b[0mclient\u001b[0m \u001b[0;34m=\u001b[0m \u001b[0mOpenAI\u001b[0m\u001b[0;34m(\u001b[0m\u001b[0mapi_key\u001b[0m  \u001b[0;34m=\u001b[0m \u001b[0mos\u001b[0m\u001b[0;34m.\u001b[0m\u001b[0menviron\u001b[0m\u001b[0;34m.\u001b[0m\u001b[0mget\u001b[0m\u001b[0;34m(\u001b[0m\u001b[0;34m\"API_KEY\"\u001b[0m\u001b[0;34m)\u001b[0m\u001b[0;34m)\u001b[0m\u001b[0;34m\u001b[0m\u001b[0;34m\u001b[0m\u001b[0m\n\u001b[1;32m     13\u001b[0m \u001b[0;34m\u001b[0m\u001b[0m\n",
            "\u001b[0;32m/tmp/ipython-input-240832460.py\u001b[0m in \u001b[0;36minit_api\u001b[0;34m()\u001b[0m\n\u001b[1;32m      4\u001b[0m \u001b[0;31m# OpenAI API 키 설정 및 초기화\u001b[0m\u001b[0;34m\u001b[0m\u001b[0;34m\u001b[0m\u001b[0m\n\u001b[1;32m      5\u001b[0m \u001b[0;32mdef\u001b[0m \u001b[0minit_api\u001b[0m\u001b[0;34m(\u001b[0m\u001b[0;34m)\u001b[0m\u001b[0;34m:\u001b[0m\u001b[0;34m\u001b[0m\u001b[0;34m\u001b[0m\u001b[0m\n\u001b[0;32m----> 6\u001b[0;31m     \u001b[0;32mwith\u001b[0m \u001b[0mopen\u001b[0m\u001b[0;34m(\u001b[0m\u001b[0;34m\"chatgpt.env\"\u001b[0m\u001b[0;34m)\u001b[0m \u001b[0;32mas\u001b[0m \u001b[0menv\u001b[0m\u001b[0;34m:\u001b[0m\u001b[0;34m\u001b[0m\u001b[0;34m\u001b[0m\u001b[0m\n\u001b[0m\u001b[1;32m      7\u001b[0m        \u001b[0;32mfor\u001b[0m \u001b[0mline\u001b[0m \u001b[0;32min\u001b[0m \u001b[0menv\u001b[0m\u001b[0;34m:\u001b[0m\u001b[0;34m\u001b[0m\u001b[0;34m\u001b[0m\u001b[0m\n\u001b[1;32m      8\u001b[0m            \u001b[0mkey\u001b[0m\u001b[0;34m,\u001b[0m \u001b[0mvalue\u001b[0m \u001b[0;34m=\u001b[0m \u001b[0mline\u001b[0m\u001b[0;34m.\u001b[0m\u001b[0mstrip\u001b[0m\u001b[0;34m(\u001b[0m\u001b[0;34m)\u001b[0m\u001b[0;34m.\u001b[0m\u001b[0msplit\u001b[0m\u001b[0;34m(\u001b[0m\u001b[0;34m\"=\"\u001b[0m\u001b[0;34m)\u001b[0m\u001b[0;34m\u001b[0m\u001b[0;34m\u001b[0m\u001b[0m\n",
            "\u001b[0;31mFileNotFoundError\u001b[0m: [Errno 2] No such file or directory: 'chatgpt.env'"
          ]
        }
      ]
    },
    {
      "cell_type": "code",
      "source": [],
      "metadata": {
        "id": "4mrXdPY2-KrA"
      },
      "execution_count": null,
      "outputs": []
    },
    {
      "cell_type": "code",
      "source": [],
      "metadata": {
        "id": "8rr98GbY-K8C"
      },
      "execution_count": null,
      "outputs": []
    },
    {
      "cell_type": "markdown",
      "source": [
        "이번 장에서는 OpenAI API를 활용하여 AI 모델과의 대화를 생성하고 제어하는 기본적인 방법을 배웁니다. 구글 코랩 환경에서 API를 설정하는 방법부터 시작하여, 메시지 역할의 이해, Few-shot 학습 기법, 맞춤형 출력 생성, 출력 길이와 응답 제어와 같은 다양한 주제를 다룹니다. 실습 예제를 통해 API의 강력한 기능을 체험하며, API를 효과적으로 활용하기 위한 기초를 탄탄히 다질 수 있을 것입니다. OpenAI API를 처음 사용하는 분들도 쉽게 따라할 수 있도록 단계별로 안내합니다."
      ],
      "metadata": {
        "id": "q9awml5fQ_l-"
      }
    },
    {
      "cell_type": "markdown",
      "source": [
        "### 목차\n",
        "- 4.1 GPT-4o mini로 시작하는 대화 생성\n",
        "- 4.2 system, user, assistant 역할의 기본 이해\n",
        "- 4.3 퓨샷 학습 소개\n",
        "- 4.4 GPT 모델을 활용한 맞춤형 출력 생성\n",
        "- 4.5 대화 출력 길이 제어\n",
        "- 4.6 AI 응답 제어"
      ],
      "metadata": {
        "id": "aYbnBRcGoMlM"
      }
    },
    {
      "cell_type": "markdown",
      "source": [
        "### 기본 환경 설정\n",
        "### chatgpt.env 환경파일 준비\n",
        " * 일반적으로 환경 변수는 .env 파일에 저장되지만, 구글 코랩 사용자의 편의를 위해 이 책에서는 chatgpt.env를 사용합니다.\n",
        " * 실제 개발 환경에서는 보통 .env를 사용하니, 이 점을 기억해 두세요.\n",
        "\n",
        "\n",
        " ### 사전 준비\n",
        " * 구글 코랩 환경은 일정 시간이후에 초기화가 되기 때문에 두가지 작업을 매번 수행해야 함.\n",
        "   * chatgpt.env 파일 생성이 필요.\n",
        "     * 준비된 chatgpt.env를 내용을 변경하여 업로드 하거나 또는 API_KEY와 ORG_ID를 확인하여 생성한다.\n",
        "   * pip install openai 설치\n",
        "    * 라이브러리 불일치로 인한 에러 발생시, 추가 라이브러리 설치 필요.\n",
        "    * 에러 : TypeError: Client.__init__() got an unexpected keyword argument 'proxies'"
      ],
      "metadata": {
        "id": "Wh1V_RCMRYvu"
      }
    },
    {
      "cell_type": "code",
      "source": [
        "!pip install openai\n",
        "!pip install httpx==0.27.2"
      ],
      "metadata": {
        "colab": {
          "base_uri": "https://localhost:8080/"
        },
        "id": "tzkZXckHRYtY",
        "outputId": "d2686796-7a9f-4623-cb01-80df19241852"
      },
      "execution_count": null,
      "outputs": [
        {
          "output_type": "stream",
          "name": "stdout",
          "text": [
            "Requirement already satisfied: openai in /usr/local/lib/python3.10/dist-packages (1.54.5)\n",
            "Requirement already satisfied: anyio<5,>=3.5.0 in /usr/local/lib/python3.10/dist-packages (from openai) (3.7.1)\n",
            "Requirement already satisfied: distro<2,>=1.7.0 in /usr/local/lib/python3.10/dist-packages (from openai) (1.9.0)\n",
            "Requirement already satisfied: httpx<1,>=0.23.0 in /usr/local/lib/python3.10/dist-packages (from openai) (0.27.2)\n",
            "Requirement already satisfied: jiter<1,>=0.4.0 in /usr/local/lib/python3.10/dist-packages (from openai) (0.8.2)\n",
            "Requirement already satisfied: pydantic<3,>=1.9.0 in /usr/local/lib/python3.10/dist-packages (from openai) (2.10.3)\n",
            "Requirement already satisfied: sniffio in /usr/local/lib/python3.10/dist-packages (from openai) (1.3.1)\n",
            "Requirement already satisfied: tqdm>4 in /usr/local/lib/python3.10/dist-packages (from openai) (4.66.6)\n",
            "Requirement already satisfied: typing-extensions<5,>=4.11 in /usr/local/lib/python3.10/dist-packages (from openai) (4.12.2)\n",
            "Requirement already satisfied: idna>=2.8 in /usr/local/lib/python3.10/dist-packages (from anyio<5,>=3.5.0->openai) (3.10)\n",
            "Requirement already satisfied: exceptiongroup in /usr/local/lib/python3.10/dist-packages (from anyio<5,>=3.5.0->openai) (1.2.2)\n",
            "Requirement already satisfied: certifi in /usr/local/lib/python3.10/dist-packages (from httpx<1,>=0.23.0->openai) (2024.8.30)\n",
            "Requirement already satisfied: httpcore==1.* in /usr/local/lib/python3.10/dist-packages (from httpx<1,>=0.23.0->openai) (1.0.7)\n",
            "Requirement already satisfied: h11<0.15,>=0.13 in /usr/local/lib/python3.10/dist-packages (from httpcore==1.*->httpx<1,>=0.23.0->openai) (0.14.0)\n",
            "Requirement already satisfied: annotated-types>=0.6.0 in /usr/local/lib/python3.10/dist-packages (from pydantic<3,>=1.9.0->openai) (0.7.0)\n",
            "Requirement already satisfied: pydantic-core==2.27.1 in /usr/local/lib/python3.10/dist-packages (from pydantic<3,>=1.9.0->openai) (2.27.1)\n",
            "Requirement already satisfied: httpx==0.27.2 in /usr/local/lib/python3.10/dist-packages (0.27.2)\n",
            "Requirement already satisfied: anyio in /usr/local/lib/python3.10/dist-packages (from httpx==0.27.2) (3.7.1)\n",
            "Requirement already satisfied: certifi in /usr/local/lib/python3.10/dist-packages (from httpx==0.27.2) (2024.8.30)\n",
            "Requirement already satisfied: httpcore==1.* in /usr/local/lib/python3.10/dist-packages (from httpx==0.27.2) (1.0.7)\n",
            "Requirement already satisfied: idna in /usr/local/lib/python3.10/dist-packages (from httpx==0.27.2) (3.10)\n",
            "Requirement already satisfied: sniffio in /usr/local/lib/python3.10/dist-packages (from httpx==0.27.2) (1.3.1)\n",
            "Requirement already satisfied: h11<0.15,>=0.13 in /usr/local/lib/python3.10/dist-packages (from httpcore==1.*->httpx==0.27.2) (0.14.0)\n",
            "Requirement already satisfied: exceptiongroup in /usr/local/lib/python3.10/dist-packages (from anyio->httpx==0.27.2) (1.2.2)\n"
          ]
        }
      ]
    },
    {
      "cell_type": "markdown",
      "source": [
        "### 4-1. GPT-4o-mini로 시작하는 대화 생성"
      ],
      "metadata": {
        "id": "YGggNgetRCsN"
      }
    },
    {
      "cell_type": "code",
      "source": [
        "import os\n",
        "from openai import OpenAI\n",
        "\n",
        "# OpenAI API 키 설정 및 초기화\n",
        "def init_api():\n",
        "    with open(\"chatgpt.env\") as env:\n",
        "       for line in env:\n",
        "           key, value = line.strip().split(\"=\")\n",
        "           os.environ[key] = value\n",
        "\n",
        "init_api()\n",
        "client = OpenAI(api_key  = os.environ.get(\"API_KEY\"))\n",
        "\n",
        "print(client)\n"
      ],
      "metadata": {
        "colab": {
          "base_uri": "https://localhost:8080/"
        },
        "id": "m6HtovsORFdK",
        "outputId": "31aada33-04d5-4f62-b3a8-5ecb9a1e879b"
      },
      "execution_count": null,
      "outputs": [
        {
          "output_type": "stream",
          "name": "stdout",
          "text": [
            "<openai.OpenAI object at 0x7b0dc67ff820>\n"
          ]
        }
      ]
    },
    {
      "cell_type": "code",
      "source": [
        "# OpenAI API로 gpt-4o-mini 모델을 사용하여 간단한 대화 생성하기\n",
        "\n",
        "model = \"gpt-4o-mini\"  # 사용할 모델을 정의합니다. 여기서는 gpt-4o-mini를 사용합니다.\n",
        "\n",
        "# 대화 메시지 리스트를 생성합니다.\n",
        "# 각 메시지는 'role'과 'content'로 이루어져 있습니다.\n",
        "messages = [\n",
        "  {\n",
        "    # 시스템 메시지는 모델의 기본 역할이나 성격을 정의합니다.\n",
        "    # 모델에게 똑똑하고 창의적이라는 역할을 부여합니다.\n",
        "    \"role\": \"system\",\n",
        "    \"content\": \"당신은 똑똑하고 창의적인 AI입니다.\"\n",
        "  },\n",
        "  {\n",
        "    # 'user'는 사용자가 모델에게 보내는 메시지를 나타냅니다.\n",
        "    # 사용자가 '안녕하세요!'라고 인사합니다.\n",
        "    \"role\": \"user\",\n",
        "    \"content\": \"안녕하세요!\"\n",
        "  }\n",
        "]\n",
        "\n",
        "response = client.chat.completions.create(\n",
        "  model=model,\n",
        "  messages=messages\n",
        ")\n",
        "\n",
        "print(response)\n"
      ],
      "metadata": {
        "colab": {
          "base_uri": "https://localhost:8080/"
        },
        "id": "6D4qraOlRGlo",
        "outputId": "925b1dfa-b3ad-4972-879a-e8ed0c8cb681"
      },
      "execution_count": null,
      "outputs": [
        {
          "output_type": "stream",
          "name": "stdout",
          "text": [
            "ChatCompletion(id='chatcmpl-Afh4g19pHMBIevocHSdfsjSU2VGUD', choices=[Choice(finish_reason='stop', index=0, logprobs=None, message=ChatCompletionMessage(content='안녕하세요! 어떻게 도와드릴까요?', refusal=None, role='assistant', audio=None, function_call=None, tool_calls=None))], created=1734500390, model='gpt-4o-mini-2024-07-18', object='chat.completion', service_tier=None, system_fingerprint='fp_6fc10e10eb', usage=CompletionUsage(completion_tokens=10, prompt_tokens=28, total_tokens=38, completion_tokens_details=CompletionTokensDetails(accepted_prediction_tokens=0, audio_tokens=0, reasoning_tokens=0, rejected_prediction_tokens=0), prompt_tokens_details=PromptTokensDetails(audio_tokens=0, cached_tokens=0)))\n"
          ]
        }
      ]
    },
    {
      "cell_type": "code",
      "source": [
        "# OpenAI API로 gpt-4o-mini 모델을 사용하여 간단한 대화 생성하기\n",
        "model = \"gpt-4o-mini\"\n",
        "\n",
        "# 대화 메시지 리스트를 생성합니다.\n",
        "messages = [\n",
        "  {\n",
        "\"role\": \"system\",\n",
        "    \"content\": \"당신은 똑똑하고 창의적인 AI입니다.\"\n",
        "  },\n",
        "  {\n",
        "\"role\": \"user\",\n",
        "    \"content\": \"안녕하세요!\"\n",
        "  }\n",
        "]\n",
        "\n",
        "response = client.chat.completions.create(\n",
        "  model=model,\n",
        "  messages=messages\n",
        ")\n",
        "\n",
        "print(response.choices[0].message.content)"
      ],
      "metadata": {
        "colab": {
          "base_uri": "https://localhost:8080/"
        },
        "id": "OmO2huopRGqV",
        "outputId": "b7871c30-90c1-481f-f97b-1d9c8672a309"
      },
      "execution_count": null,
      "outputs": [
        {
          "output_type": "stream",
          "name": "stdout",
          "text": [
            "안녕하세요! 어떻게 도와드릴까요?\n"
          ]
        }
      ]
    },
    {
      "cell_type": "markdown",
      "source": [
        "### 4-2. system, user, assistant 역할의 기본 이해"
      ],
      "metadata": {
        "id": "9L0TIzvoUflL"
      }
    },
    {
      "cell_type": "markdown",
      "source": [
        "### system 역할"
      ],
      "metadata": {
        "id": "FetfA_zEo6h2"
      }
    },
    {
      "cell_type": "code",
      "source": [
        "model = \"gpt-4o-mini\"\n",
        "messages = [\n",
        "  {\n",
        "    \"role\": \"system\",\n",
        "    \"content\": \"너는 유머러스하고 창의적인  AI란다.\"\n",
        "  }\n",
        "]\n",
        "\n",
        "response = client.chat.completions.create(\n",
        "  model=model,\n",
        "  messages=messages\n",
        ")\n",
        "\n",
        "print(response.choices[0].message.content)\n"
      ],
      "metadata": {
        "colab": {
          "base_uri": "https://localhost:8080/"
        },
        "id": "C9TImCDARGvy",
        "outputId": "25c69193-e3fd-481d-91bd-ab1ec8ab8a4a"
      },
      "execution_count": null,
      "outputs": [
        {
          "output_type": "stream",
          "name": "stdout",
          "text": [
            "고마워요! 유머와 창의력을 발휘할 준비가 되어 있습니다. 어떤 재미있는 이야기나 질문이 필요하신가요? 어떤 주제로 시작해 볼까요?\n"
          ]
        }
      ]
    },
    {
      "cell_type": "markdown",
      "source": [
        "### user 역할"
      ],
      "metadata": {
        "id": "HN1wpTWbo98c"
      }
    },
    {
      "cell_type": "code",
      "source": [
        "model = \"gpt-4o-mini\"\n",
        "messages = [\n",
        "    {\n",
        "      \"role\": \"system\",\n",
        "      \"content\": \"당신은 똑똑한 조수입니다.\"\n",
        "    },\n",
        "    {\n",
        "      \"role\": \"user\",\n",
        "      \"content\": \"안녕하세요.\"\n",
        "    },\n",
        "    {\n",
        "      \"role\": \"user\",\n",
        "      \"content\": \"모든 것이 어떻게 진행되고 있나요?\"\n",
        "    }\n",
        "]\n",
        "\n",
        "response = client.chat.completions.create(\n",
        "  model=model,\n",
        "  messages=messages\n",
        ")\n",
        "\n",
        "print(response.choices[0].message.content)\n"
      ],
      "metadata": {
        "colab": {
          "base_uri": "https://localhost:8080/"
        },
        "id": "-078Wac0RGzG",
        "outputId": "8ec77067-32e7-4195-da0e-c663ffba64c1"
      },
      "execution_count": null,
      "outputs": [
        {
          "output_type": "stream",
          "name": "stdout",
          "text": [
            "안녕하세요! 모든 것은 잘 진행되고 있습니다. 당신에게 어떻게 도움을 드릴 수 있을까요? 궁금한 점이나 필요한 정보가 있다면 말씀해 주세요.\n"
          ]
        }
      ]
    },
    {
      "cell_type": "markdown",
      "source": [
        "### 4-3. 퓨샷 학습 소개"
      ],
      "metadata": {
        "id": "bOHAGL5kRG2q"
      }
    },
    {
      "cell_type": "code",
      "source": [
        "# 모델을 \"gpt-4o-mini\"로 설정합니다.\n",
        "model = \"gpt-4o-mini\"\n",
        "\n",
        "# 사용자와 AI 간의 대화 내용을 담은 메시지 리스트를 정의합니다.\n",
        "messages = [\n",
        "  {\n",
        "    \"role\": \"user\",\n",
        "    \"content\":\n",
        "    \"electrons dance the tango of uncertainty,\"\n",
        "    \"entangling bits in a choreography that outpaces\"\n",
        "    \"the swiftest supercomputers.\"\n",
        "  },\n",
        "  {\n",
        "    \"role\": \"assistant\",\n",
        "    \"content\":\n",
        "    \"Electrons Dance the Tango of Uncertainty,\"\n",
        "    \"Entangling Bits in a Choreography That Outpaces\"\n",
        "    \"the Swiftest Supercomputers.\"\n",
        "  },\n",
        "  {\n",
        "    \"role\": \"user\",\n",
        "    \"content\":\n",
        "    \"cloud architectures whisper across the sky,\"\n",
        "    \"weaving a tapestry of data that blankets the digital\"\n",
        "    \"landscape in a seamless symphony of bytes.\"\n",
        "  },\n",
        "  {\n",
        "    \"role\": \"assistant\",\n",
        "    \"content\":\n",
        "    \"Cloud Architectures Whisper Across the Sky,\"\n",
        "    \"Weaving a Tapestry of Data That Blankets the Digital\"\n",
        "    \"Landscape in a Seamless Symphony of Bytes.\"\n",
        "  },\n",
        "  {\n",
        "    \"role\": \"user\",\n",
        "    \"content\":\n",
        "    \"artificial Intelligence, the alchemist of the digital \"\n",
        "    \"age, transmutes raw data into a golden labyrinth of\"\n",
        "    \"insights, charting new territories in the realm of\"\n",
        "    \"human thought.\"\n",
        "  },\n",
        "  {\n",
        "    \"role\": \"assistant\",\n",
        "    \"content\":\n",
        "    \"Artificial Intelligence, the Alchemist of the Digital\"\n",
        "    \"Age, Transmutes Raw Data Into a Golden Labyrinth of\"\n",
        "    \"Insights, Charting New Territories in the Realm of\"\n",
        "    \"Human Thought.\"\n",
        "  },\n",
        "  {\n",
        "    \"role\": \"user\",\n",
        "    \"content\":\n",
        "    \"the internet of things is a vast ocean of data,\"\n",
        "    \"a sea of information that ebbs and flows\"\n",
        "    \"with the tides of time.\"\n",
        "  }\n",
        "]\n",
        "\n",
        "# 대화 내용을 바탕으로 gpt-4o-mini모델을 사용하여 응답을 생성합니다.\n",
        "# temperature 값을 1.2로 설정하여 다양한 응답을 생성합니다.\n",
        "response = client.chat.completions.create(\n",
        "  model=model,\n",
        "  messages=messages,\n",
        "  temperature=1.2,\n",
        ")\n",
        "\n",
        "# 생성된 응답을 출력합니다.\n",
        "print(response.choices[0].message.content)\n"
      ],
      "metadata": {
        "colab": {
          "base_uri": "https://localhost:8080/"
        },
        "id": "18bir8eVRG6B",
        "outputId": "f7263ec3-b0ed-47b8-9e0d-c3afefc903e9"
      },
      "execution_count": null,
      "outputs": [
        {
          "output_type": "stream",
          "name": "stdout",
          "text": [
            "The Internet of Things Is a Vast Ocean of Data, a Sea of Information That Ebbs and Flows with the Tides of Time.\n"
          ]
        }
      ]
    },
    {
      "cell_type": "markdown",
      "source": [
        "### 4-4. GPT 모델을 활용한 맞춤형 출력 생성"
      ],
      "metadata": {
        "id": "fU4y0VXVRG9E"
      }
    },
    {
      "cell_type": "code",
      "source": [
        "model = \"gpt-4o-mini\"\n",
        "messages = [\n",
        "  {\n",
        "    \"role\": \"user\",\n",
        "    \"content\":\n",
        "    \"다음을 포함하는 JSON형 반환\"\n",
        "    \"0과 3사이의 소수(Primary numbers)\"\n",
        "  },\n",
        "  {\n",
        "  \"role\": \"assistant\",\n",
        "  \"content\": \"\"\"\n",
        "    {\n",
        "      \"데이터\": [2, 3, 5, 7],\n",
        "      \"길이\": 4,\n",
        "      \"최소\": 2,\n",
        "      \"최대\": 7,\n",
        "    }\n",
        "  \"\"\"\n",
        "  },\n",
        "  {\n",
        "  \"role\": \"user\",\n",
        "  \"content\":\n",
        "    \"다음을 포함하는 JSON형 반환\"\n",
        "    \"0과 6사이의 소수(Primary numbers)\"\n",
        "  },\n",
        "  {\n",
        "  \"role\": \"assistant\",\n",
        "  \"content\": \"\"\"\n",
        "    {\n",
        "    \"데이터\": [2, 3, 5],\n",
        "    \"길이\": 3,\n",
        "    \"최소\": 2,\n",
        "    \"최대\": 5,\n",
        "    }\n",
        "  \"\"\"\n",
        "  },\n",
        "  {\n",
        "  \"role\": \"user\",\n",
        "  \"content\":\n",
        "    \"다음을 포함하는 JSON형 반환\"\n",
        "    \"11과 65사이의 소수(Primary numbers)\"\n",
        "  }\n",
        "]\n",
        "\n",
        "response = client.chat.completions.create(\n",
        "  model=model,\n",
        "  messages=messages,\n",
        "  temperature=1.2,\n",
        ")\n",
        "\n",
        "print(response.choices[0].message.content)\n"
      ],
      "metadata": {
        "colab": {
          "base_uri": "https://localhost:8080/"
        },
        "id": "lk2jv2HWRHAY",
        "outputId": "ad58c202-848c-467b-fbcf-5696129a37e9"
      },
      "execution_count": null,
      "outputs": [
        {
          "output_type": "stream",
          "name": "stdout",
          "text": [
            "```json\n",
            "{\n",
            "  \"데이터\": [11, 13, 17, 19, 23, 29, 31, 37, 41, 43, 47, 53, 59, 61],\n",
            "  \"길이\": 14,\n",
            "  \"최소\": 11,\n",
            "  \"최대\": 61\n",
            "}\n",
            "```\n"
          ]
        }
      ]
    },
    {
      "cell_type": "code",
      "source": [
        "# gpt-4o-mini 모델을 사용하여 대화 생성\n",
        "model = \"gpt-4o-mini\"\n",
        "\n",
        "# 출력의 접두어로 사용할 숫자 리스트\n",
        "prefix = \"\\n\\n1. \"\n",
        "\n",
        "# 메시지 리스트: 모델에게 입력할 대화 내용\n",
        "messages = [\n",
        "  {\n",
        "    \"role\": \"user\",\n",
        "    \"content\":  f\"세계 7대 불가사의는 무엇일까요?{prefix}\"\n",
        "  }\n",
        "]\n",
        "\n",
        "# gpt-4o-mini 모델을 사용하여 주어진 메시지에 대한 응답 생성\n",
        "response = client.chat.completions.create(\n",
        "  model=model,\n",
        "  messages=messages\n",
        ")\n",
        "\n",
        "# 생성된 응답을 접두어(prefix)와 함께 출력\n",
        "print(prefix + response.choices[0].message.content)\n"
      ],
      "metadata": {
        "colab": {
          "base_uri": "https://localhost:8080/"
        },
        "id": "k4xL-vefRHDX",
        "outputId": "f0d783dd-d2e4-42ae-ed76-4ed1c0db51d1"
      },
      "execution_count": null,
      "outputs": [
        {
          "output_type": "stream",
          "name": "stdout",
          "text": [
            "\n",
            "\n",
            "1. 세계 7대 불가사의는 고대 세계의 인상적인 건축물과 구조물들로 구성되어 있습니다. 여기에는 다음과 같은 것들이 포함됩니다:\n",
            "\n",
            "1. **피라미드**(Giza의 대피라미드) - 이집트\n",
            "2. **걸어다니는 정원**(바빌론의 공중 정원) - 이라크\n",
            "3. **제우스 신statue** - 그리스 올림피아\n",
            "4. **아르테미스 신전** - 에페소스, 터키\n",
            "5. **모세의 등대**(알렉산드리아의 등대) - 이집트 \n",
            "6. **거대한 피규어**(콜로서스) - 로도스, 그리스\n",
            "7. **마우솔레움**(마우솔레움의 할리카르나수스) - 터키\n",
            "\n",
            "이들 구조물은 고대 문명의 기술과 예술적 성취를 보여주는 대표적인 예들입니다. 현재 이 중에서 남아 있는 것은 이집트의 대피라미드 하나뿐입니다.\n"
          ]
        }
      ]
    },
    {
      "cell_type": "markdown",
      "source": [
        "### 4-5. 대화 출력 길이 제어"
      ],
      "metadata": {
        "id": "IsJI58tLVDUF"
      }
    },
    {
      "cell_type": "code",
      "source": [
        "# gpt-4o-mini 모델을 사용하여 대화 생성\n",
        "model = \"gpt-4o-mini\"\n",
        "\n",
        "# 메시지 리스트: 시스템 및 사용자 역할을 포함한 대화 내용\n",
        "messages = [\n",
        "  {\n",
        "    \"role\": \"system\",\n",
        "    \"content\": \"당신은 스마트하고 창의적인 어시스턴트입니다.\"\n",
        "  },\n",
        "  {\n",
        "    \"role\": \"user\",\n",
        "    \"content\": \"한니발(Hannibal)은 누구인가요?\"\n",
        "  },\n",
        "]\n",
        "\n",
        "# gpt-4o-mini 모델을 사용하여 주어진 메시지에 대한 응답 생성\n",
        "response = client.chat.completions.create(\n",
        "  model=model,\n",
        "  messages=messages\n",
        ")\n",
        "\n",
        "# 사용된 토큰 수 출력\n",
        "print(response.usage)\n"
      ],
      "metadata": {
        "colab": {
          "base_uri": "https://localhost:8080/"
        },
        "id": "0PAJV5YoVIVj",
        "outputId": "25d443fc-3e71-4484-b13b-7ee2d88ab71f"
      },
      "execution_count": null,
      "outputs": [
        {
          "output_type": "stream",
          "name": "stdout",
          "text": [
            "CompletionUsage(completion_tokens=264, prompt_tokens=37, total_tokens=301, completion_tokens_details=CompletionTokensDetails(accepted_prediction_tokens=0, audio_tokens=0, reasoning_tokens=0, rejected_prediction_tokens=0), prompt_tokens_details=PromptTokensDetails(audio_tokens=0, cached_tokens=0))\n"
          ]
        }
      ]
    },
    {
      "cell_type": "code",
      "source": [
        "model = \"gpt-4o-mini\"\n",
        "messages = [\n",
        "  {\n",
        "    \"role\": \"system\",\n",
        "    \"content\":\n",
        "    \"당신은 똑똑하고 창의적인 조수입니다.\"\n",
        "  },\n",
        "  {\n",
        "    \"role\": \"user\",\n",
        "    \"content\":\n",
        "    \"한니발(Hannibal)은 누구인가요?\"\n",
        "  },\n",
        "]\n",
        "\n",
        "short_response = client.chat.completions.create(\n",
        "  model=model,\n",
        "  messages=messages,\n",
        "  max_tokens=50\n",
        ")\n",
        "\n",
        "long_response = client.chat.completions.create(\n",
        "  model=model,\n",
        "  messages=messages,\n",
        "  max_tokens=300\n",
        ")\n",
        "\n",
        "print(\"짧은 응답:\")\n",
        "print(short_response.choices[0].message.content)\n",
        "print()\n",
        "print(\"약간 긴 응답:\")\n",
        "print(long_response.choices[0].message.content)\n"
      ],
      "metadata": {
        "colab": {
          "base_uri": "https://localhost:8080/"
        },
        "id": "jHYSebZPVKZy",
        "outputId": "89bde7b1-ce73-481c-b4df-b7c9d6c08e2d"
      },
      "execution_count": null,
      "outputs": [
        {
          "output_type": "stream",
          "name": "stdout",
          "text": [
            "짧은 응답:\n",
            "한니발(Hannibal)은 고대 카르타고의 군사 지도자로, 주로 기원전 3세기 중반에 활동하였습니다. 그는 제2차 포에니 전쟁 동안 로마와의 전\n",
            "\n",
            "약간 긴 응답:\n",
            "한니발(Hannibal)은 고대 카르타고의 장군이자 정치가로, 기원전 247년경에 태어났습니다. 그는 제2차 포에니 전쟁(기원전 218-201년)에서의 그의 군사적 전략과 전술로 가장 유명합니다. 특히 알프스 산맥을 넘어 로마를 침공한 그의 행군은 군사 역사에서 중요한 전투로 자리잡고 있습니다.\n",
            "\n",
            "한니발은 전투에서 매우 뛰어난 지휘관으로 평가받으며, 특히 유명한 전투인 카나를 전투(기원전 216년)에서 로마 군대를 결정적으로 무찌르고 그 전술로 많은 영감을 주었습니다. 그러나 결국 그가 로마를 정복하는 데는 실패하게 되고, 기원전 202년에는 제자에서의 전투에서 패배하였습니다.\n",
            "\n",
            "한니발은 그의 정치적 및 군사적 업적 덕분에 카르타고의 역사에서 매우 중요한 인물로 남아 있으며, 전투 전략가로서의 영향력은 오늘날에도 여전히 많은 사람들에게 연구되고 있습니다.\n"
          ]
        }
      ]
    },
    {
      "cell_type": "markdown",
      "source": [
        "### 4-6. AI 응답 제어하기\n",
        "- 'stop' 매개변수의 효과적인 활용"
      ],
      "metadata": {
        "id": "2eroQ2rPXNRm"
      }
    },
    {
      "cell_type": "code",
      "source": [
        "model = \"gpt-4o-mini\"\n",
        "messages = [\n",
        "  {\n",
        "    \"role\": \"system\",\n",
        "    \"content\":\n",
        "    \"당신은 똑똑하고 창의적인 조수입니다.\"\n",
        "  },\n",
        "  {\n",
        "    \"role\": \"user\",\n",
        "    \"content\":\n",
        "    \"한니발(Hannibal)은 누구인가요?\"\n",
        "  }\n",
        "]\n",
        "\n",
        "stop_token = \".\"\n",
        "response = client.chat.completions.create(\n",
        "  model=model,\n",
        "  messages=messages,\n",
        "  max_tokens=50,\n",
        "  stop=[stop_token]\n",
        ")\n",
        "\n",
        "print(response.choices[0].message.content + stop_token)\n"
      ],
      "metadata": {
        "colab": {
          "base_uri": "https://localhost:8080/"
        },
        "id": "FYP9TFiHXpOq",
        "outputId": "e32d8b60-cec2-464f-b856-2ad598779ece"
      },
      "execution_count": null,
      "outputs": [
        {
          "output_type": "stream",
          "name": "stdout",
          "text": [
            "한니발(Hannibal)은 고대 카르타고의 군사 사령관으로, 기원전 247년경에 태어났습니다.\n"
          ]
        }
      ]
    },
    {
      "cell_type": "code",
      "source": [
        "model = \"gpt-4o-mini\"\n",
        "messages = [\n",
        "  {\n",
        "    \"role\": \"system\",\n",
        "    \"content\":\n",
        "    \"당신은 똑똑하고 창의적인 조수입니다.\"\n",
        "  },\n",
        "  {\n",
        "    \"role\": \"user\",\n",
        "    \"content\":\n",
        "    \"한니발(Hannibal)은 누구인가요?\"\n",
        "  }\n",
        "]\n",
        "\n",
        "# gpt-4o-mini 모델을 사용해 응답 생성\n",
        "response = client.chat.completions.create(\n",
        "  model=model,\n",
        "  messages=messages,\n",
        "  max_tokens=300,\n",
        "  stop=[\"\\n\", \"Human:\", \"AI:\"]  # 출력 중단 시퀀스 설정(줄 바꿈, 'Human:', 'AI:')\n",
        ")\n",
        "\n",
        "# 생성된 응답 출력\n",
        "print(response.choices[0].message.content)\n"
      ],
      "metadata": {
        "colab": {
          "base_uri": "https://localhost:8080/"
        },
        "id": "PUgLEx_kXrgj",
        "outputId": "e7d94a1c-002a-4e68-9204-4d1b3ce071a2"
      },
      "execution_count": null,
      "outputs": [
        {
          "output_type": "stream",
          "name": "stdout",
          "text": [
            "한니발(Hannibal)은 고대 카르타고의 군사 지휘관이자 정치가로, 기원전 247년경에 태어났습니다. 그는 제2차 포에니 전쟁(기원전 218-201년) 동안 로마 공화국에 맞서 싸운 것으로 가장 유명합니다. 한니발은 알프스 산맥을 넘어 이탈리아로 진군하여 로마 군대에 여러 차례 큰 패배를 안겼습니다.\n"
          ]
        }
      ]
    },
    {
      "cell_type": "code",
      "source": [
        "model = \"gpt-4o-mini\"\n",
        "messages = [\n",
        "  {\n",
        "    \"role\": \"user\",\n",
        "    \"content\": \"2021년에 개봉한 공상 과학 영화를 알려주세요.\"\n",
        "  },\n",
        "  {\n",
        "  \"role\": \"system\",\n",
        "  \"content\": \"\"\"\n",
        "    1. 듄 (Dune)\n",
        "    2. 핀치 (Finch)\n",
        "    3. 더 어웨이크 (The Awake)\n",
        "    4. 매트릭스: 리저렉션 (The Matrix Resurrections)\n",
        "    5. 마더/안드로이드 (Mother/Android)\n",
        "    6. 블리스 (Bliss)\n",
        "    7. 스완 송 (Swan Song)\n",
        "  \"\"\"\n",
        "  },\n",
        "  {\n",
        "  \"role\": \"user\",\n",
        "  \"content\": \"2021년에 개봉한 인기 영화를 알려주세요.\"\n",
        "  }\n",
        "]\n",
        "\n",
        "response = client.chat.completions.create(\n",
        "  model=model,\n",
        "  messages=messages,\n",
        "  max_tokens=300,\n",
        "  stop=[\"Human:\", \"AI:\"]\n",
        ")\n",
        "\n",
        "print(response.choices[0].message.content)\n"
      ],
      "metadata": {
        "colab": {
          "base_uri": "https://localhost:8080/"
        },
        "id": "tEFxgGofX9Xv",
        "outputId": "f63513d2-f425-42e3-aac5-6836f97d3b10"
      },
      "execution_count": null,
      "outputs": [
        {
          "output_type": "stream",
          "name": "stdout",
          "text": [
            "2021년에 개봉한 인기 영화는 다음과 같습니다:\n",
            "\n",
            "1. **듄 (Dune)**\n",
            "2. **매트릭스: 리저렉션 (The Matrix Resurrections)**\n",
            "3. **섹시한 변호사 (The Trial of the Chicago 7)**\n",
            "4. **스파이러스 (Spider-Man: No Way Home)**\n",
            "5. **007: 노 타임 투 다이 (No Time to Die)**\n",
            "6. **이터널스 (Eternals)**\n",
            "7. **프리 가이 (Free Guy)**\n",
            "\n",
            "이 외에도 다양한 장르의 영화가 인기를 끌었습니다.\n"
          ]
        }
      ]
    },
    {
      "cell_type": "code",
      "source": [
        "model = \"gpt-4o-mini\"\n",
        "messages = [\n",
        "  {\n",
        "    \"role\": \"user\",\n",
        "    \"content\": \"2021년에 개봉한 공상 과학 영화를 알려주세요.\"\n",
        "  },\n",
        "  {\n",
        "  \"role\": \"system\",\n",
        "  \"content\": \"\"\"\n",
        "    1. 듄 (Dune)\n",
        "    2. 핀치 (Finch)\n",
        "    3. 더 어웨이크 (The Awake)\n",
        "    4. 매트릭스: 리저렉션 (The Matrix Resurrections)\n",
        "    5. 마더/안드로이드 (Mother/Android)\n",
        "    6. 블리스 (Bliss)\n",
        "    7. 스완 송 (Swan Song)\n",
        "  \"\"\"\n",
        "  },\n",
        "  {\n",
        "  \"role\": \"user\",\n",
        "  \"content\": \"2021년에 개봉한 인기 영화를 알려주세요.\"\n",
        "  }\n",
        "]\n",
        "\n",
        "response = client.chat.completions.create(\n",
        "  model=model,\n",
        "  messages=messages,\n",
        "  max_tokens=300,\n",
        "  stop=[\"6.\"]\n",
        ")\n",
        "\n",
        "print(response.choices[0].message.content)"
      ],
      "metadata": {
        "colab": {
          "base_uri": "https://localhost:8080/"
        },
        "id": "pE11I0tuYJAR",
        "outputId": "761fdb27-5a3a-490a-828b-2c822b28ed3c"
      },
      "execution_count": null,
      "outputs": [
        {
          "output_type": "stream",
          "name": "stdout",
          "text": [
            "2021년에 개봉한 인기 영화는 다음과 같습니다:\n",
            "\n",
            "1. **듄 (Dune)** - 프랭크 허버트의 소설을 원작으로 한 장대한 스페이스 오페라.\n",
            "2. **노타임투다이 (No Time to Die)** - 제임스 본드 시리즈의 25번째 작품.\n",
            "3. **스파이더맨: 노 웨이 홈 (Spider-Man: No Way Home)** - 마블의 인기 캐릭터 스파이더맨의 최신 이야기를 다룬 영화.\n",
            "4. **이터널스 (Eternals)** - 마블 시네마틱 유니버스의 새로운 슈퍼히어로 팀을 소개하는 영화.\n",
            "5. **프리 가이 (Free Guy)** - 게임 속 캐릭터가 자신이 NPC임을 깨닫고 모험을 시작하는 코미디 액션.\n",
            "\n"
          ]
        }
      ]
    },
    {
      "cell_type": "markdown",
      "source": [
        "## 5장 오픈AI API 모델 탐색하기"
      ],
      "metadata": {
        "id": "PfzZpWiGYPSO"
      }
    },
    {
      "cell_type": "markdown",
      "source": [
        "### 목차\n",
        "- 5.1  사용 가능 모델 확인 및 소개\n",
        "- 5.2  사용할 모델 선택\n",
        "- 5.3  오픈AI 모델 시리즈\n",
        "- 5.4  오픈AI 모델 가격\n",
        "- 5.5  오픈AI 모델의 발전과 선택 가이드"
      ],
      "metadata": {
        "id": "KCOjufQvpmeu"
      }
    },
    {
      "cell_type": "markdown",
      "source": [
        "### 5.1  사용 가능 모델 확인 및 소개"
      ],
      "metadata": {
        "id": "7dXFtIsEZcHy"
      }
    },
    {
      "cell_type": "code",
      "source": [
        "# 클라이언트에서 사용 가능한 모든 모델을 가져옵니다.\n",
        "models = client.models.list()\n",
        "\n",
        "# 각 모델의 속성을 출력합니다.\n",
        "for model in models:\n",
        "    print(vars(model))  # vars() 함수는 객체의 모든 속성을 딕셔너리로 표시합니다.\n"
      ],
      "metadata": {
        "colab": {
          "base_uri": "https://localhost:8080/"
        },
        "id": "ImjeS2-lZeN9",
        "outputId": "da3a297d-173a-4ad1-a01a-d753ee67be84"
      },
      "execution_count": null,
      "outputs": [
        {
          "output_type": "stream",
          "name": "stdout",
          "text": [
            "{'id': 'o1-mini-2024-09-12', 'created': 1725648979, 'object': 'model', 'owned_by': 'system'}\n",
            "{'id': 'dall-e-2', 'created': 1698798177, 'object': 'model', 'owned_by': 'system'}\n",
            "{'id': 'gpt-4-1106-preview', 'created': 1698957206, 'object': 'model', 'owned_by': 'system'}\n",
            "{'id': 'gpt-3.5-turbo-instruct', 'created': 1692901427, 'object': 'model', 'owned_by': 'system'}\n",
            "{'id': 'babbage-002', 'created': 1692634615, 'object': 'model', 'owned_by': 'system'}\n",
            "{'id': 'davinci-002', 'created': 1692634301, 'object': 'model', 'owned_by': 'system'}\n",
            "{'id': 'whisper-1', 'created': 1677532384, 'object': 'model', 'owned_by': 'openai-internal'}\n",
            "{'id': 'dall-e-3', 'created': 1698785189, 'object': 'model', 'owned_by': 'system'}\n",
            "{'id': 'gpt-4o-realtime-preview-2024-10-01', 'created': 1727131766, 'object': 'model', 'owned_by': 'system'}\n",
            "{'id': 'text-embedding-3-small', 'created': 1705948997, 'object': 'model', 'owned_by': 'system'}\n",
            "{'id': 'gpt-3.5-turbo-16k', 'created': 1683758102, 'object': 'model', 'owned_by': 'openai-internal'}\n",
            "{'id': 'gpt-4-0125-preview', 'created': 1706037612, 'object': 'model', 'owned_by': 'system'}\n",
            "{'id': 'gpt-4o-realtime-preview', 'created': 1727659998, 'object': 'model', 'owned_by': 'system'}\n",
            "{'id': 'gpt-4o-mini-2024-07-18', 'created': 1721172717, 'object': 'model', 'owned_by': 'system'}\n",
            "{'id': 'gpt-4o-mini', 'created': 1721172741, 'object': 'model', 'owned_by': 'system'}\n",
            "{'id': 'gpt-4-turbo-preview', 'created': 1706037777, 'object': 'model', 'owned_by': 'system'}\n",
            "{'id': 'omni-moderation-latest', 'created': 1731689265, 'object': 'model', 'owned_by': 'system'}\n",
            "{'id': 'gpt-4o-2024-05-13', 'created': 1715368132, 'object': 'model', 'owned_by': 'system'}\n",
            "{'id': 'omni-moderation-2024-09-26', 'created': 1732734466, 'object': 'model', 'owned_by': 'system'}\n",
            "{'id': 'tts-1-hd-1106', 'created': 1699053533, 'object': 'model', 'owned_by': 'system'}\n",
            "{'id': 'chatgpt-4o-latest', 'created': 1723515131, 'object': 'model', 'owned_by': 'system'}\n",
            "{'id': 'gpt-4', 'created': 1687882411, 'object': 'model', 'owned_by': 'openai'}\n",
            "{'id': 'gpt-4-0613', 'created': 1686588896, 'object': 'model', 'owned_by': 'openai'}\n",
            "{'id': 'o1-mini', 'created': 1725649008, 'object': 'model', 'owned_by': 'system'}\n",
            "{'id': 'gpt-4o', 'created': 1715367049, 'object': 'model', 'owned_by': 'system'}\n",
            "{'id': 'gpt-3.5-turbo', 'created': 1677610602, 'object': 'model', 'owned_by': 'openai'}\n",
            "{'id': 'gpt-4o-2024-08-06', 'created': 1722814719, 'object': 'model', 'owned_by': 'system'}\n",
            "{'id': 'gpt-3.5-turbo-0125', 'created': 1706048358, 'object': 'model', 'owned_by': 'system'}\n",
            "{'id': 'o1-preview', 'created': 1725648897, 'object': 'model', 'owned_by': 'system'}\n",
            "{'id': 'o1-preview-2024-09-12', 'created': 1725648865, 'object': 'model', 'owned_by': 'system'}\n",
            "{'id': 'gpt-4-turbo', 'created': 1712361441, 'object': 'model', 'owned_by': 'system'}\n",
            "{'id': 'tts-1-hd', 'created': 1699046015, 'object': 'model', 'owned_by': 'system'}\n",
            "{'id': 'text-embedding-ada-002', 'created': 1671217299, 'object': 'model', 'owned_by': 'openai-internal'}\n",
            "{'id': 'gpt-4-turbo-2024-04-09', 'created': 1712601677, 'object': 'model', 'owned_by': 'system'}\n",
            "{'id': 'gpt-3.5-turbo-1106', 'created': 1698959748, 'object': 'model', 'owned_by': 'system'}\n",
            "{'id': 'gpt-4o-audio-preview', 'created': 1727460443, 'object': 'model', 'owned_by': 'system'}\n",
            "{'id': 'gpt-4o-audio-preview-2024-10-01', 'created': 1727389042, 'object': 'model', 'owned_by': 'system'}\n",
            "{'id': 'tts-1', 'created': 1681940951, 'object': 'model', 'owned_by': 'openai-internal'}\n",
            "{'id': 'tts-1-1106', 'created': 1699053241, 'object': 'model', 'owned_by': 'system'}\n",
            "{'id': 'gpt-3.5-turbo-instruct-0914', 'created': 1694122472, 'object': 'model', 'owned_by': 'system'}\n",
            "{'id': 'text-embedding-3-large', 'created': 1705953180, 'object': 'model', 'owned_by': 'system'}\n",
            "{'id': 'gpt-4o-realtime-preview-2024-12-17', 'created': 1733945430, 'object': 'model', 'owned_by': 'system'}\n",
            "{'id': 'gpt-4o-mini-realtime-preview', 'created': 1734387380, 'object': 'model', 'owned_by': 'system'}\n",
            "{'id': 'gpt-4o-mini-realtime-preview-2024-12-17', 'created': 1734112601, 'object': 'model', 'owned_by': 'system'}\n",
            "{'id': 'gpt-4o-2024-11-20', 'created': 1731975040, 'object': 'model', 'owned_by': 'system'}\n",
            "{'id': 'gpt-4o-audio-preview-2024-12-17', 'created': 1734034239, 'object': 'model', 'owned_by': 'system'}\n",
            "{'id': 'gpt-4o-mini-audio-preview', 'created': 1734387424, 'object': 'model', 'owned_by': 'system'}\n",
            "{'id': 'gpt-4o-mini-audio-preview-2024-12-17', 'created': 1734115920, 'object': 'model', 'owned_by': 'system'}\n",
            "{'id': 'ada:ft-personal:drug-malady-data-2023-08-15-09-37-38', 'created': 1692092258, 'object': 'model', 'owned_by': 'user-tsnzqvgrmhiurxzo7oh2tjwg'}\n",
            "{'id': 'ada:ft-personal:drug-data-2023-08-15-09-58-51', 'created': 1692093531, 'object': 'model', 'owned_by': 'user-tsnzqvgrmhiurxzo7oh2tjwg'}\n",
            "{'id': 'ada:ft-personal:drug-malady-data-2023-08-17-07-34-44', 'created': 1692257684, 'object': 'model', 'owned_by': 'user-tsnzqvgrmhiurxzo7oh2tjwg'}\n",
            "{'id': 'curie:ft-personal-2023-08-21-02-27-03', 'created': 1692584823, 'object': 'model', 'owned_by': 'user-tsnzqvgrmhiurxzo7oh2tjwg'}\n",
            "{'id': 'curie:ft-personal:daniel-toto-2023-08-21-02-39-21', 'created': 1692585561, 'object': 'model', 'owned_by': 'user-tsnzqvgrmhiurxzo7oh2tjwg'}\n",
            "{'id': 'ft:gpt-3.5-turbo-0125:personal::9l7YGnLX:ckpt-step-80', 'created': 1721017473, 'object': 'model', 'owned_by': 'user-tsnzqvgrmhiurxzo7oh2tjwg'}\n",
            "{'id': 'ft:gpt-3.5-turbo-0125:personal::9l7YHLK2:ckpt-step-90', 'created': 1721017473, 'object': 'model', 'owned_by': 'user-tsnzqvgrmhiurxzo7oh2tjwg'}\n",
            "{'id': 'ft:gpt-3.5-turbo-0125:personal::9l7YHHaA', 'created': 1721017473, 'object': 'model', 'owned_by': 'user-tsnzqvgrmhiurxzo7oh2tjwg'}\n",
            "{'id': 'ft:gpt-3.5-turbo-0125:personal::9l8CFQG7:ckpt-step-80', 'created': 1721019952, 'object': 'model', 'owned_by': 'user-tsnzqvgrmhiurxzo7oh2tjwg'}\n",
            "{'id': 'ft:gpt-3.5-turbo-0125:personal::9l8CGiIV:ckpt-step-90', 'created': 1721019952, 'object': 'model', 'owned_by': 'user-tsnzqvgrmhiurxzo7oh2tjwg'}\n",
            "{'id': 'ft:gpt-3.5-turbo-0125:personal::9l8CGguk', 'created': 1721019952, 'object': 'model', 'owned_by': 'user-tsnzqvgrmhiurxzo7oh2tjwg'}\n",
            "{'id': 'ft:gpt-3.5-turbo-0125:personal::9lAFgjOy:ckpt-step-393', 'created': 1721027852, 'object': 'model', 'owned_by': 'user-tsnzqvgrmhiurxzo7oh2tjwg'}\n",
            "{'id': 'ft:gpt-3.5-turbo-0125:personal::9lAFhIwn:ckpt-step-786', 'created': 1721027853, 'object': 'model', 'owned_by': 'user-tsnzqvgrmhiurxzo7oh2tjwg'}\n",
            "{'id': 'ft:gpt-3.5-turbo-0125:personal::9lAFhjd9', 'created': 1721027853, 'object': 'model', 'owned_by': 'user-tsnzqvgrmhiurxzo7oh2tjwg'}\n",
            "{'id': 'ft:gpt-3.5-turbo-0125:personal::9lARq0ky:ckpt-step-393', 'created': 1721028607, 'object': 'model', 'owned_by': 'user-tsnzqvgrmhiurxzo7oh2tjwg'}\n",
            "{'id': 'ft:gpt-3.5-turbo-0125:personal::9lARruIJ:ckpt-step-786', 'created': 1721028607, 'object': 'model', 'owned_by': 'user-tsnzqvgrmhiurxzo7oh2tjwg'}\n",
            "{'id': 'ft:gpt-3.5-turbo-0125:personal::9lARrXzs', 'created': 1721028607, 'object': 'model', 'owned_by': 'user-tsnzqvgrmhiurxzo7oh2tjwg'}\n",
            "{'id': 'ft:gpt-3.5-turbo-0125:personal::A5QUt82W:ckpt-step-80', 'created': 1725856859, 'object': 'model', 'owned_by': 'user-tsnzqvgrmhiurxzo7oh2tjwg'}\n",
            "{'id': 'ft:gpt-3.5-turbo-0125:personal::A5QUtulj:ckpt-step-90', 'created': 1725856860, 'object': 'model', 'owned_by': 'user-tsnzqvgrmhiurxzo7oh2tjwg'}\n",
            "{'id': 'ft:gpt-3.5-turbo-0125:personal::A5QUuqiE', 'created': 1725856860, 'object': 'model', 'owned_by': 'user-tsnzqvgrmhiurxzo7oh2tjwg'}\n",
            "{'id': 'ft:gpt-3.5-turbo-0125:personal::A5Bkeo9R:ckpt-step-80', 'created': 1725800176, 'object': 'model', 'owned_by': 'user-tsnzqvgrmhiurxzo7oh2tjwg'}\n",
            "{'id': 'ft:gpt-3.5-turbo-0125:personal::A5BkeO8U:ckpt-step-90', 'created': 1725800177, 'object': 'model', 'owned_by': 'user-tsnzqvgrmhiurxzo7oh2tjwg'}\n",
            "{'id': 'ft:gpt-3.5-turbo-0125:personal::A5Bkf5k8', 'created': 1725800177, 'object': 'model', 'owned_by': 'user-tsnzqvgrmhiurxzo7oh2tjwg'}\n",
            "{'id': 'ft:gpt-3.5-turbo-0125:personal::A5SqrJmg:ckpt-step-859', 'created': 1725865909, 'object': 'model', 'owned_by': 'user-tsnzqvgrmhiurxzo7oh2tjwg'}\n",
            "{'id': 'ft:gpt-3.5-turbo-0125:personal::A5SqrmRB:ckpt-step-1718', 'created': 1725865909, 'object': 'model', 'owned_by': 'user-tsnzqvgrmhiurxzo7oh2tjwg'}\n",
            "{'id': 'ft:gpt-3.5-turbo-0125:personal::A5SqrihB', 'created': 1725865909, 'object': 'model', 'owned_by': 'user-tsnzqvgrmhiurxzo7oh2tjwg'}\n",
            "{'id': 'ft:gpt-4o-mini-2024-07-18:personal::AF0GFL7o:ckpt-step-80', 'created': 1728139287, 'object': 'model', 'owned_by': 'user-tsnzqvgrmhiurxzo7oh2tjwg'}\n",
            "{'id': 'ft:gpt-4o-mini-2024-07-18:personal::AF0GFPCQ:ckpt-step-90', 'created': 1728139287, 'object': 'model', 'owned_by': 'user-tsnzqvgrmhiurxzo7oh2tjwg'}\n",
            "{'id': 'ft:gpt-4o-mini-2024-07-18:personal::AF0GFc3e', 'created': 1728139287, 'object': 'model', 'owned_by': 'user-tsnzqvgrmhiurxzo7oh2tjwg'}\n",
            "{'id': 'ft:gpt-4o-mini-2024-07-18:personal::AFWKtYKB:ckpt-step-100', 'created': 1728262584, 'object': 'model', 'owned_by': 'user-tsnzqvgrmhiurxzo7oh2tjwg'}\n",
            "{'id': 'ft:gpt-4o-mini-2024-07-18:personal::AFWKucqf:ckpt-step-200', 'created': 1728262584, 'object': 'model', 'owned_by': 'user-tsnzqvgrmhiurxzo7oh2tjwg'}\n",
            "{'id': 'ft:gpt-4o-mini-2024-07-18:personal::AFWKuokN', 'created': 1728262584, 'object': 'model', 'owned_by': 'user-tsnzqvgrmhiurxzo7oh2tjwg'}\n",
            "{'id': 'ft:gpt-4o-mini-2024-07-18:personal::AEGbexbH:ckpt-step-80', 'created': 1727963790, 'object': 'model', 'owned_by': 'user-tsnzqvgrmhiurxzo7oh2tjwg'}\n",
            "{'id': 'ft:gpt-4o-mini-2024-07-18:personal::AEGbeamL:ckpt-step-90', 'created': 1727963790, 'object': 'model', 'owned_by': 'user-tsnzqvgrmhiurxzo7oh2tjwg'}\n",
            "{'id': 'ft:gpt-4o-mini-2024-07-18:personal::AEGbetzX', 'created': 1727963790, 'object': 'model', 'owned_by': 'user-tsnzqvgrmhiurxzo7oh2tjwg'}\n",
            "{'id': 'ft:gpt-4o-mini-2024-07-18:personal::AEwNXMVO:ckpt-step-80', 'created': 1728124363, 'object': 'model', 'owned_by': 'user-tsnzqvgrmhiurxzo7oh2tjwg'}\n",
            "{'id': 'ft:gpt-4o-mini-2024-07-18:personal::AEwNXImZ:ckpt-step-90', 'created': 1728124363, 'object': 'model', 'owned_by': 'user-tsnzqvgrmhiurxzo7oh2tjwg'}\n",
            "{'id': 'ft:gpt-4o-mini-2024-07-18:personal::AEwNXrSA', 'created': 1728124364, 'object': 'model', 'owned_by': 'user-tsnzqvgrmhiurxzo7oh2tjwg'}\n",
            "{'id': 'ft:gpt-4o-mini-2024-07-18:personal::AEFlJhtK:ckpt-step-80', 'created': 1727960545, 'object': 'model', 'owned_by': 'user-tsnzqvgrmhiurxzo7oh2tjwg'}\n",
            "{'id': 'ft:gpt-4o-mini-2024-07-18:personal::AEFlJlBX:ckpt-step-90', 'created': 1727960545, 'object': 'model', 'owned_by': 'user-tsnzqvgrmhiurxzo7oh2tjwg'}\n",
            "{'id': 'ft:gpt-4o-mini-2024-07-18:personal::AEFlKEZh', 'created': 1727960546, 'object': 'model', 'owned_by': 'user-tsnzqvgrmhiurxzo7oh2tjwg'}\n",
            "{'id': 'ft:gpt-4o-mini-2024-07-18:personal::AEXthDPu:ckpt-step-1144', 'created': 1728030257, 'object': 'model', 'owned_by': 'user-tsnzqvgrmhiurxzo7oh2tjwg'}\n",
            "{'id': 'ft:gpt-4o-mini-2024-07-18:personal::AEXthioC:ckpt-step-1716', 'created': 1728030258, 'object': 'model', 'owned_by': 'user-tsnzqvgrmhiurxzo7oh2tjwg'}\n",
            "{'id': 'ft:gpt-4o-mini-2024-07-18:personal::AEXtiPXn', 'created': 1728030258, 'object': 'model', 'owned_by': 'user-tsnzqvgrmhiurxzo7oh2tjwg'}\n",
            "{'id': 'ft:gpt-4o-mini-2024-07-18:personal::AEG7Stvq:ckpt-step-80', 'created': 1727961918, 'object': 'model', 'owned_by': 'user-tsnzqvgrmhiurxzo7oh2tjwg'}\n",
            "{'id': 'ft:gpt-4o-mini-2024-07-18:personal::AEG7Sqki:ckpt-step-90', 'created': 1727961918, 'object': 'model', 'owned_by': 'user-tsnzqvgrmhiurxzo7oh2tjwg'}\n",
            "{'id': 'ft:gpt-4o-mini-2024-07-18:personal::AEG7SH0t', 'created': 1727961919, 'object': 'model', 'owned_by': 'user-tsnzqvgrmhiurxzo7oh2tjwg'}\n",
            "{'id': 'ft:gpt-4o-mini-2024-07-18:personal::AWkpvmZZ:ckpt-step-1146', 'created': 1732369899, 'object': 'model', 'owned_by': 'user-tsnzqvgrmhiurxzo7oh2tjwg'}\n",
            "{'id': 'ft:gpt-4o-mini-2024-07-18:personal::AWkpvMbQ:ckpt-step-1719', 'created': 1732369899, 'object': 'model', 'owned_by': 'user-tsnzqvgrmhiurxzo7oh2tjwg'}\n",
            "{'id': 'ft:gpt-4o-mini-2024-07-18:personal::AWkpvDz1', 'created': 1732369900, 'object': 'model', 'owned_by': 'user-tsnzqvgrmhiurxzo7oh2tjwg'}\n",
            "{'id': 'ft:gpt-4o-mini-2024-07-18:personal::AWhT4tEj:ckpt-step-80', 'created': 1732356950, 'object': 'model', 'owned_by': 'user-tsnzqvgrmhiurxzo7oh2tjwg'}\n",
            "{'id': 'ft:gpt-4o-mini-2024-07-18:personal::AWhT4x01:ckpt-step-90', 'created': 1732356950, 'object': 'model', 'owned_by': 'user-tsnzqvgrmhiurxzo7oh2tjwg'}\n",
            "{'id': 'ft:gpt-4o-mini-2024-07-18:personal::AWhT4nWt', 'created': 1732356950, 'object': 'model', 'owned_by': 'user-tsnzqvgrmhiurxzo7oh2tjwg'}\n",
            "{'id': 'ft:gpt-4o-mini-2024-07-18:personal::AWiBVQNJ:ckpt-step-80', 'created': 1732359705, 'object': 'model', 'owned_by': 'user-tsnzqvgrmhiurxzo7oh2tjwg'}\n",
            "{'id': 'ft:gpt-4o-mini-2024-07-18:personal::AWiBV4Ca:ckpt-step-90', 'created': 1732359705, 'object': 'model', 'owned_by': 'user-tsnzqvgrmhiurxzo7oh2tjwg'}\n",
            "{'id': 'ft:gpt-4o-mini-2024-07-18:personal::AWiBWHv8', 'created': 1732359706, 'object': 'model', 'owned_by': 'user-tsnzqvgrmhiurxzo7oh2tjwg'}\n"
          ]
        }
      ]
    },
    {
      "cell_type": "code",
      "source": [
        "# 클라이언트에서 사용 가능한 모든 모델 목록을 가져옵니다.\n",
        "models = client.models.list()\n",
        "\n",
        "# 각 모델의 ID를 출력합니다.\n",
        "for model in models:\n",
        "    print(model.id)  # 모델 객체에서 'id' 속성만 출력\n"
      ],
      "metadata": {
        "colab": {
          "base_uri": "https://localhost:8080/"
        },
        "id": "LwbVruoEZgNT",
        "outputId": "c223449b-5c19-4876-e3a0-6ec2a116dab5"
      },
      "execution_count": null,
      "outputs": [
        {
          "output_type": "stream",
          "name": "stdout",
          "text": [
            "o1-mini-2024-09-12\n",
            "dall-e-2\n",
            "gpt-4-1106-preview\n",
            "gpt-3.5-turbo-instruct\n",
            "babbage-002\n",
            "davinci-002\n",
            "whisper-1\n",
            "dall-e-3\n",
            "gpt-4o-realtime-preview-2024-10-01\n",
            "text-embedding-3-small\n",
            "gpt-3.5-turbo-16k\n",
            "gpt-4-0125-preview\n",
            "gpt-4o-realtime-preview\n",
            "gpt-4o-mini-2024-07-18\n",
            "gpt-4o-mini\n",
            "gpt-4-turbo-preview\n",
            "omni-moderation-latest\n",
            "gpt-4o-2024-05-13\n",
            "omni-moderation-2024-09-26\n",
            "tts-1-hd-1106\n",
            "chatgpt-4o-latest\n",
            "gpt-4\n",
            "gpt-4-0613\n",
            "o1-mini\n",
            "gpt-4o\n",
            "gpt-3.5-turbo\n",
            "gpt-4o-2024-08-06\n",
            "gpt-3.5-turbo-0125\n",
            "o1-preview\n",
            "o1-preview-2024-09-12\n",
            "gpt-4-turbo\n",
            "tts-1-hd\n",
            "text-embedding-ada-002\n",
            "gpt-4-turbo-2024-04-09\n",
            "gpt-3.5-turbo-1106\n",
            "gpt-4o-audio-preview\n",
            "gpt-4o-audio-preview-2024-10-01\n",
            "tts-1\n",
            "tts-1-1106\n",
            "gpt-3.5-turbo-instruct-0914\n",
            "text-embedding-3-large\n",
            "gpt-4o-realtime-preview-2024-12-17\n",
            "gpt-4o-mini-realtime-preview\n",
            "gpt-4o-mini-realtime-preview-2024-12-17\n",
            "gpt-4o-2024-11-20\n",
            "gpt-4o-audio-preview-2024-12-17\n",
            "gpt-4o-mini-audio-preview\n",
            "gpt-4o-mini-audio-preview-2024-12-17\n",
            "ada:ft-personal:drug-malady-data-2023-08-15-09-37-38\n",
            "ada:ft-personal:drug-data-2023-08-15-09-58-51\n",
            "ada:ft-personal:drug-malady-data-2023-08-17-07-34-44\n",
            "curie:ft-personal-2023-08-21-02-27-03\n",
            "curie:ft-personal:daniel-toto-2023-08-21-02-39-21\n",
            "ft:gpt-3.5-turbo-0125:personal::9l7YGnLX:ckpt-step-80\n",
            "ft:gpt-3.5-turbo-0125:personal::9l7YHLK2:ckpt-step-90\n",
            "ft:gpt-3.5-turbo-0125:personal::9l7YHHaA\n",
            "ft:gpt-3.5-turbo-0125:personal::9l8CFQG7:ckpt-step-80\n",
            "ft:gpt-3.5-turbo-0125:personal::9l8CGiIV:ckpt-step-90\n",
            "ft:gpt-3.5-turbo-0125:personal::9l8CGguk\n",
            "ft:gpt-3.5-turbo-0125:personal::9lAFgjOy:ckpt-step-393\n",
            "ft:gpt-3.5-turbo-0125:personal::9lAFhIwn:ckpt-step-786\n",
            "ft:gpt-3.5-turbo-0125:personal::9lAFhjd9\n",
            "ft:gpt-3.5-turbo-0125:personal::9lARq0ky:ckpt-step-393\n",
            "ft:gpt-3.5-turbo-0125:personal::9lARruIJ:ckpt-step-786\n",
            "ft:gpt-3.5-turbo-0125:personal::9lARrXzs\n",
            "ft:gpt-3.5-turbo-0125:personal::A5QUt82W:ckpt-step-80\n",
            "ft:gpt-3.5-turbo-0125:personal::A5QUtulj:ckpt-step-90\n",
            "ft:gpt-3.5-turbo-0125:personal::A5QUuqiE\n",
            "ft:gpt-3.5-turbo-0125:personal::A5Bkeo9R:ckpt-step-80\n",
            "ft:gpt-3.5-turbo-0125:personal::A5BkeO8U:ckpt-step-90\n",
            "ft:gpt-3.5-turbo-0125:personal::A5Bkf5k8\n",
            "ft:gpt-3.5-turbo-0125:personal::A5SqrJmg:ckpt-step-859\n",
            "ft:gpt-3.5-turbo-0125:personal::A5SqrmRB:ckpt-step-1718\n",
            "ft:gpt-3.5-turbo-0125:personal::A5SqrihB\n",
            "ft:gpt-4o-mini-2024-07-18:personal::AF0GFL7o:ckpt-step-80\n",
            "ft:gpt-4o-mini-2024-07-18:personal::AF0GFPCQ:ckpt-step-90\n",
            "ft:gpt-4o-mini-2024-07-18:personal::AF0GFc3e\n",
            "ft:gpt-4o-mini-2024-07-18:personal::AFWKtYKB:ckpt-step-100\n",
            "ft:gpt-4o-mini-2024-07-18:personal::AFWKucqf:ckpt-step-200\n",
            "ft:gpt-4o-mini-2024-07-18:personal::AFWKuokN\n",
            "ft:gpt-4o-mini-2024-07-18:personal::AEGbexbH:ckpt-step-80\n",
            "ft:gpt-4o-mini-2024-07-18:personal::AEGbeamL:ckpt-step-90\n",
            "ft:gpt-4o-mini-2024-07-18:personal::AEGbetzX\n",
            "ft:gpt-4o-mini-2024-07-18:personal::AEwNXMVO:ckpt-step-80\n",
            "ft:gpt-4o-mini-2024-07-18:personal::AEwNXImZ:ckpt-step-90\n",
            "ft:gpt-4o-mini-2024-07-18:personal::AEwNXrSA\n",
            "ft:gpt-4o-mini-2024-07-18:personal::AEFlJhtK:ckpt-step-80\n",
            "ft:gpt-4o-mini-2024-07-18:personal::AEFlJlBX:ckpt-step-90\n",
            "ft:gpt-4o-mini-2024-07-18:personal::AEFlKEZh\n",
            "ft:gpt-4o-mini-2024-07-18:personal::AEXthDPu:ckpt-step-1144\n",
            "ft:gpt-4o-mini-2024-07-18:personal::AEXthioC:ckpt-step-1716\n",
            "ft:gpt-4o-mini-2024-07-18:personal::AEXtiPXn\n",
            "ft:gpt-4o-mini-2024-07-18:personal::AEG7Stvq:ckpt-step-80\n",
            "ft:gpt-4o-mini-2024-07-18:personal::AEG7Sqki:ckpt-step-90\n",
            "ft:gpt-4o-mini-2024-07-18:personal::AEG7SH0t\n",
            "ft:gpt-4o-mini-2024-07-18:personal::AWkpvmZZ:ckpt-step-1146\n",
            "ft:gpt-4o-mini-2024-07-18:personal::AWkpvMbQ:ckpt-step-1719\n",
            "ft:gpt-4o-mini-2024-07-18:personal::AWkpvDz1\n",
            "ft:gpt-4o-mini-2024-07-18:personal::AWhT4tEj:ckpt-step-80\n",
            "ft:gpt-4o-mini-2024-07-18:personal::AWhT4x01:ckpt-step-90\n",
            "ft:gpt-4o-mini-2024-07-18:personal::AWhT4nWt\n",
            "ft:gpt-4o-mini-2024-07-18:personal::AWiBVQNJ:ckpt-step-80\n",
            "ft:gpt-4o-mini-2024-07-18:personal::AWiBV4Ca:ckpt-step-90\n",
            "ft:gpt-4o-mini-2024-07-18:personal::AWiBWHv8\n"
          ]
        }
      ]
    }
  ]
}